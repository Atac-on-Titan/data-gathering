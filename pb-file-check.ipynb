{
 "cells": [
  {
   "cell_type": "code",
   "execution_count": 7,
   "metadata": {
    "collapsed": true,
    "ExecuteTime": {
     "end_time": "2023-08-23T19:55:53.846178100Z",
     "start_time": "2023-08-23T19:55:53.816180100Z"
    }
   },
   "outputs": [],
   "source": [
    "import dataclasses\n",
    "\n",
    "import pandas as pd\n",
    "from google.transit import gtfs_realtime_pb2\n",
    "from parse import parse_trip_update\n",
    "from datetime import datetime"
   ]
  },
  {
   "cell_type": "code",
   "execution_count": 20,
   "outputs": [
    {
     "data": {
      "text/plain": "                                          trip_id start_time start_date  \\\n0                                        0#836-36   22:00:00   20230823   \n1                                        0#836-36   22:00:00   20230823   \n2                                        0#836-36   22:00:00   20230823   \n3                                        0#836-36   22:00:00   20230823   \n4                                        0#836-36   22:00:00   20230823   \n...                                           ...        ...        ...   \n12280  VJff637b95cec1b42e5a8692847fde43191302649d   22:00:00   20230823   \n12281  VJff637b95cec1b42e5a8692847fde43191302649d   22:00:00   20230823   \n12282  VJff637b95cec1b42e5a8692847fde43191302649d   22:00:00   20230823   \n12283  VJff637b95cec1b42e5a8692847fde43191302649d   22:00:00   20230823   \n12284  VJff637b95cec1b42e5a8692847fde43191302649d   22:00:00   20230823   \n\n      route_id  stop_sequence  delay        time  uncertainty   stop_id  \\\n0          087              8   -580  1692821240           10     73058   \n1          087              9   -604  1692821248           10     73060   \n2          087             10   -616  1692821284           10     73031   \n3          087             11   -616  1692821312            9     73062   \n4          087             12   -608  1692821352           10     70888   \n...        ...            ...    ...         ...          ...       ...   \n12280     4458             29      0  1692822234            0  ROME1993   \n12281     4458             30      0  1692822285            0  ROME1994   \n12282     4458             31      0  1692822397            0     76278   \n12283     4458             32      0  1692822431            0     73471   \n12284     4458             33      0  1692822530            0  ROME6202   \n\n                date_time  \n0     2023-08-23 20:07:20  \n1     2023-08-23 20:07:28  \n2     2023-08-23 20:08:04  \n3     2023-08-23 20:08:32  \n4     2023-08-23 20:09:12  \n...                   ...  \n12280 2023-08-23 20:23:54  \n12281 2023-08-23 20:24:45  \n12282 2023-08-23 20:26:37  \n12283 2023-08-23 20:27:11  \n12284 2023-08-23 20:28:50  \n\n[12285 rows x 10 columns]",
      "text/html": "<div>\n<style scoped>\n    .dataframe tbody tr th:only-of-type {\n        vertical-align: middle;\n    }\n\n    .dataframe tbody tr th {\n        vertical-align: top;\n    }\n\n    .dataframe thead th {\n        text-align: right;\n    }\n</style>\n<table border=\"1\" class=\"dataframe\">\n  <thead>\n    <tr style=\"text-align: right;\">\n      <th></th>\n      <th>trip_id</th>\n      <th>start_time</th>\n      <th>start_date</th>\n      <th>route_id</th>\n      <th>stop_sequence</th>\n      <th>delay</th>\n      <th>time</th>\n      <th>uncertainty</th>\n      <th>stop_id</th>\n      <th>date_time</th>\n    </tr>\n  </thead>\n  <tbody>\n    <tr>\n      <th>0</th>\n      <td>0#836-36</td>\n      <td>22:00:00</td>\n      <td>20230823</td>\n      <td>087</td>\n      <td>8</td>\n      <td>-580</td>\n      <td>1692821240</td>\n      <td>10</td>\n      <td>73058</td>\n      <td>2023-08-23 20:07:20</td>\n    </tr>\n    <tr>\n      <th>1</th>\n      <td>0#836-36</td>\n      <td>22:00:00</td>\n      <td>20230823</td>\n      <td>087</td>\n      <td>9</td>\n      <td>-604</td>\n      <td>1692821248</td>\n      <td>10</td>\n      <td>73060</td>\n      <td>2023-08-23 20:07:28</td>\n    </tr>\n    <tr>\n      <th>2</th>\n      <td>0#836-36</td>\n      <td>22:00:00</td>\n      <td>20230823</td>\n      <td>087</td>\n      <td>10</td>\n      <td>-616</td>\n      <td>1692821284</td>\n      <td>10</td>\n      <td>73031</td>\n      <td>2023-08-23 20:08:04</td>\n    </tr>\n    <tr>\n      <th>3</th>\n      <td>0#836-36</td>\n      <td>22:00:00</td>\n      <td>20230823</td>\n      <td>087</td>\n      <td>11</td>\n      <td>-616</td>\n      <td>1692821312</td>\n      <td>9</td>\n      <td>73062</td>\n      <td>2023-08-23 20:08:32</td>\n    </tr>\n    <tr>\n      <th>4</th>\n      <td>0#836-36</td>\n      <td>22:00:00</td>\n      <td>20230823</td>\n      <td>087</td>\n      <td>12</td>\n      <td>-608</td>\n      <td>1692821352</td>\n      <td>10</td>\n      <td>70888</td>\n      <td>2023-08-23 20:09:12</td>\n    </tr>\n    <tr>\n      <th>...</th>\n      <td>...</td>\n      <td>...</td>\n      <td>...</td>\n      <td>...</td>\n      <td>...</td>\n      <td>...</td>\n      <td>...</td>\n      <td>...</td>\n      <td>...</td>\n      <td>...</td>\n    </tr>\n    <tr>\n      <th>12280</th>\n      <td>VJff637b95cec1b42e5a8692847fde43191302649d</td>\n      <td>22:00:00</td>\n      <td>20230823</td>\n      <td>4458</td>\n      <td>29</td>\n      <td>0</td>\n      <td>1692822234</td>\n      <td>0</td>\n      <td>ROME1993</td>\n      <td>2023-08-23 20:23:54</td>\n    </tr>\n    <tr>\n      <th>12281</th>\n      <td>VJff637b95cec1b42e5a8692847fde43191302649d</td>\n      <td>22:00:00</td>\n      <td>20230823</td>\n      <td>4458</td>\n      <td>30</td>\n      <td>0</td>\n      <td>1692822285</td>\n      <td>0</td>\n      <td>ROME1994</td>\n      <td>2023-08-23 20:24:45</td>\n    </tr>\n    <tr>\n      <th>12282</th>\n      <td>VJff637b95cec1b42e5a8692847fde43191302649d</td>\n      <td>22:00:00</td>\n      <td>20230823</td>\n      <td>4458</td>\n      <td>31</td>\n      <td>0</td>\n      <td>1692822397</td>\n      <td>0</td>\n      <td>76278</td>\n      <td>2023-08-23 20:26:37</td>\n    </tr>\n    <tr>\n      <th>12283</th>\n      <td>VJff637b95cec1b42e5a8692847fde43191302649d</td>\n      <td>22:00:00</td>\n      <td>20230823</td>\n      <td>4458</td>\n      <td>32</td>\n      <td>0</td>\n      <td>1692822431</td>\n      <td>0</td>\n      <td>73471</td>\n      <td>2023-08-23 20:27:11</td>\n    </tr>\n    <tr>\n      <th>12284</th>\n      <td>VJff637b95cec1b42e5a8692847fde43191302649d</td>\n      <td>22:00:00</td>\n      <td>20230823</td>\n      <td>4458</td>\n      <td>33</td>\n      <td>0</td>\n      <td>1692822530</td>\n      <td>0</td>\n      <td>ROME6202</td>\n      <td>2023-08-23 20:28:50</td>\n    </tr>\n  </tbody>\n</table>\n<p>12285 rows × 10 columns</p>\n</div>"
     },
     "execution_count": 20,
     "metadata": {},
     "output_type": "execute_result"
    }
   ],
   "source": [
    "with open(\"rome_trip_updates.pb\", 'rb') as f:\n",
    "\n",
    "    feed = gtfs_realtime_pb2.FeedMessage()\n",
    "\n",
    "    feed.ParseFromString(f.read())\n",
    "\n",
    "    updates = parse_trip_update(feed)\n",
    "\n",
    "    columns = list(map(lambda field: field.name, dataclasses.fields(updates[0])))\n",
    "    df_updates = pd.DataFrame(updates, columns=columns)\n",
    "    df_updates['date_time'] = list(map(lambda time: datetime.utcfromtimestamp(time), df_updates.time))\n",
    "\n",
    "df_updates"
   ],
   "metadata": {
    "collapsed": false,
    "ExecuteTime": {
     "end_time": "2023-08-23T20:05:36.200204400Z",
     "start_time": "2023-08-23T20:05:35.633356Z"
    }
   }
  },
  {
   "cell_type": "code",
   "execution_count": 21,
   "outputs": [
    {
     "data": {
      "text/plain": "      trip_id start_time start_date route_id  stop_sequence  delay  \\\n0    0#836-36   22:00:00   20230823      087              8   -580   \n1    0#836-36   22:00:00   20230823      087              9   -604   \n2    0#836-36   22:00:00   20230823      087             10   -616   \n3    0#836-36   22:00:00   20230823      087             11   -616   \n4    0#836-36   22:00:00   20230823      087             12   -608   \n5    0#836-36   22:00:00   20230823      087             13   -604   \n6    0#836-36   22:00:00   20230823      087             14   -606   \n7    0#836-36   22:00:00   20230823      087             15   -618   \n8    0#836-36   22:00:00   20230823      087             16   -620   \n9    0#836-36   22:00:00   20230823      087             17   -630   \n10   0#836-36   22:00:00   20230823      087             18   -656   \n11   0#836-36   22:00:00   20230823      087             19   -674   \n12   0#836-36   22:00:00   20230823      087             20   -684   \n13   0#836-36   22:00:00   20230823      087             21   -684   \n120  0#837-36   22:00:00   20230823      087              6   -176   \n121  0#837-36   22:00:00   20230823      087              7   -194   \n122  0#837-36   22:00:00   20230823      087              8   -212   \n123  0#837-36   22:00:00   20230823      087              9   -238   \n124  0#837-36   22:00:00   20230823      087             10   -346   \n125  0#837-36   22:00:00   20230823      087             11   -450   \n126  0#837-36   22:00:00   20230823      087             12   -514   \n127  0#837-36   22:00:00   20230823      087             13   -556   \n128  0#837-36   22:00:00   20230823      087             14   -610   \n129  0#837-36   22:00:00   20230823      087             15   -636   \n130  0#837-36   22:00:00   20230823      087             16   -674   \n131  0#837-36   22:00:00   20230823      087             17   -718   \n132  0#837-36   22:00:00   20230823      087             18   -744   \n133  0#837-36   22:00:00   20230823      087             19   -744   \n\n           time  uncertainty stop_id           date_time  \n0    1692821240           10   73058 2023-08-23 20:07:20  \n1    1692821248           10   73060 2023-08-23 20:07:28  \n2    1692821284           10   73031 2023-08-23 20:08:04  \n3    1692821312            9   73062 2023-08-23 20:08:32  \n4    1692821352           10   70888 2023-08-23 20:09:12  \n5    1692821420           10   75709 2023-08-23 20:10:20  \n6    1692821442           10   75710 2023-08-23 20:10:42  \n7    1692821476           10   75711 2023-08-23 20:11:16  \n8    1692821514           10   75712 2023-08-23 20:11:54  \n9    1692821560           10   75685 2023-08-23 20:12:40  \n10   1692821576           10   75695 2023-08-23 20:12:56  \n11   1692821634           10   75724 2023-08-23 20:13:54  \n12   1692821702           10   75725 2023-08-23 20:15:02  \n13   1692821736           16   75726 2023-08-23 20:15:36  \n120  1692821046            6   75705 2023-08-23 20:04:06  \n121  1692821060            6   75706 2023-08-23 20:04:20  \n122  1692821076            6   75707 2023-08-23 20:04:36  \n123  1692821086            6   72410 2023-08-23 20:04:46  \n124  1692821220            6   73064 2023-08-23 20:07:00  \n125  1692821276            6   73066 2023-08-23 20:07:56  \n126  1692821318            6   73068 2023-08-23 20:08:38  \n127  1692821350            6   73069 2023-08-23 20:09:10  \n128  1692821436            6   73070 2023-08-23 20:10:36  \n129  1692821482            6   80572 2023-08-23 20:11:22  \n130  1692821536            6   82168 2023-08-23 20:12:16  \n131  1692821578            6   78389 2023-08-23 20:12:58  \n132  1692821654            6   75745 2023-08-23 20:14:14  \n133  1692821676           16   75675 2023-08-23 20:14:36  ",
      "text/html": "<div>\n<style scoped>\n    .dataframe tbody tr th:only-of-type {\n        vertical-align: middle;\n    }\n\n    .dataframe tbody tr th {\n        vertical-align: top;\n    }\n\n    .dataframe thead th {\n        text-align: right;\n    }\n</style>\n<table border=\"1\" class=\"dataframe\">\n  <thead>\n    <tr style=\"text-align: right;\">\n      <th></th>\n      <th>trip_id</th>\n      <th>start_time</th>\n      <th>start_date</th>\n      <th>route_id</th>\n      <th>stop_sequence</th>\n      <th>delay</th>\n      <th>time</th>\n      <th>uncertainty</th>\n      <th>stop_id</th>\n      <th>date_time</th>\n    </tr>\n  </thead>\n  <tbody>\n    <tr>\n      <th>0</th>\n      <td>0#836-36</td>\n      <td>22:00:00</td>\n      <td>20230823</td>\n      <td>087</td>\n      <td>8</td>\n      <td>-580</td>\n      <td>1692821240</td>\n      <td>10</td>\n      <td>73058</td>\n      <td>2023-08-23 20:07:20</td>\n    </tr>\n    <tr>\n      <th>1</th>\n      <td>0#836-36</td>\n      <td>22:00:00</td>\n      <td>20230823</td>\n      <td>087</td>\n      <td>9</td>\n      <td>-604</td>\n      <td>1692821248</td>\n      <td>10</td>\n      <td>73060</td>\n      <td>2023-08-23 20:07:28</td>\n    </tr>\n    <tr>\n      <th>2</th>\n      <td>0#836-36</td>\n      <td>22:00:00</td>\n      <td>20230823</td>\n      <td>087</td>\n      <td>10</td>\n      <td>-616</td>\n      <td>1692821284</td>\n      <td>10</td>\n      <td>73031</td>\n      <td>2023-08-23 20:08:04</td>\n    </tr>\n    <tr>\n      <th>3</th>\n      <td>0#836-36</td>\n      <td>22:00:00</td>\n      <td>20230823</td>\n      <td>087</td>\n      <td>11</td>\n      <td>-616</td>\n      <td>1692821312</td>\n      <td>9</td>\n      <td>73062</td>\n      <td>2023-08-23 20:08:32</td>\n    </tr>\n    <tr>\n      <th>4</th>\n      <td>0#836-36</td>\n      <td>22:00:00</td>\n      <td>20230823</td>\n      <td>087</td>\n      <td>12</td>\n      <td>-608</td>\n      <td>1692821352</td>\n      <td>10</td>\n      <td>70888</td>\n      <td>2023-08-23 20:09:12</td>\n    </tr>\n    <tr>\n      <th>5</th>\n      <td>0#836-36</td>\n      <td>22:00:00</td>\n      <td>20230823</td>\n      <td>087</td>\n      <td>13</td>\n      <td>-604</td>\n      <td>1692821420</td>\n      <td>10</td>\n      <td>75709</td>\n      <td>2023-08-23 20:10:20</td>\n    </tr>\n    <tr>\n      <th>6</th>\n      <td>0#836-36</td>\n      <td>22:00:00</td>\n      <td>20230823</td>\n      <td>087</td>\n      <td>14</td>\n      <td>-606</td>\n      <td>1692821442</td>\n      <td>10</td>\n      <td>75710</td>\n      <td>2023-08-23 20:10:42</td>\n    </tr>\n    <tr>\n      <th>7</th>\n      <td>0#836-36</td>\n      <td>22:00:00</td>\n      <td>20230823</td>\n      <td>087</td>\n      <td>15</td>\n      <td>-618</td>\n      <td>1692821476</td>\n      <td>10</td>\n      <td>75711</td>\n      <td>2023-08-23 20:11:16</td>\n    </tr>\n    <tr>\n      <th>8</th>\n      <td>0#836-36</td>\n      <td>22:00:00</td>\n      <td>20230823</td>\n      <td>087</td>\n      <td>16</td>\n      <td>-620</td>\n      <td>1692821514</td>\n      <td>10</td>\n      <td>75712</td>\n      <td>2023-08-23 20:11:54</td>\n    </tr>\n    <tr>\n      <th>9</th>\n      <td>0#836-36</td>\n      <td>22:00:00</td>\n      <td>20230823</td>\n      <td>087</td>\n      <td>17</td>\n      <td>-630</td>\n      <td>1692821560</td>\n      <td>10</td>\n      <td>75685</td>\n      <td>2023-08-23 20:12:40</td>\n    </tr>\n    <tr>\n      <th>10</th>\n      <td>0#836-36</td>\n      <td>22:00:00</td>\n      <td>20230823</td>\n      <td>087</td>\n      <td>18</td>\n      <td>-656</td>\n      <td>1692821576</td>\n      <td>10</td>\n      <td>75695</td>\n      <td>2023-08-23 20:12:56</td>\n    </tr>\n    <tr>\n      <th>11</th>\n      <td>0#836-36</td>\n      <td>22:00:00</td>\n      <td>20230823</td>\n      <td>087</td>\n      <td>19</td>\n      <td>-674</td>\n      <td>1692821634</td>\n      <td>10</td>\n      <td>75724</td>\n      <td>2023-08-23 20:13:54</td>\n    </tr>\n    <tr>\n      <th>12</th>\n      <td>0#836-36</td>\n      <td>22:00:00</td>\n      <td>20230823</td>\n      <td>087</td>\n      <td>20</td>\n      <td>-684</td>\n      <td>1692821702</td>\n      <td>10</td>\n      <td>75725</td>\n      <td>2023-08-23 20:15:02</td>\n    </tr>\n    <tr>\n      <th>13</th>\n      <td>0#836-36</td>\n      <td>22:00:00</td>\n      <td>20230823</td>\n      <td>087</td>\n      <td>21</td>\n      <td>-684</td>\n      <td>1692821736</td>\n      <td>16</td>\n      <td>75726</td>\n      <td>2023-08-23 20:15:36</td>\n    </tr>\n    <tr>\n      <th>120</th>\n      <td>0#837-36</td>\n      <td>22:00:00</td>\n      <td>20230823</td>\n      <td>087</td>\n      <td>6</td>\n      <td>-176</td>\n      <td>1692821046</td>\n      <td>6</td>\n      <td>75705</td>\n      <td>2023-08-23 20:04:06</td>\n    </tr>\n    <tr>\n      <th>121</th>\n      <td>0#837-36</td>\n      <td>22:00:00</td>\n      <td>20230823</td>\n      <td>087</td>\n      <td>7</td>\n      <td>-194</td>\n      <td>1692821060</td>\n      <td>6</td>\n      <td>75706</td>\n      <td>2023-08-23 20:04:20</td>\n    </tr>\n    <tr>\n      <th>122</th>\n      <td>0#837-36</td>\n      <td>22:00:00</td>\n      <td>20230823</td>\n      <td>087</td>\n      <td>8</td>\n      <td>-212</td>\n      <td>1692821076</td>\n      <td>6</td>\n      <td>75707</td>\n      <td>2023-08-23 20:04:36</td>\n    </tr>\n    <tr>\n      <th>123</th>\n      <td>0#837-36</td>\n      <td>22:00:00</td>\n      <td>20230823</td>\n      <td>087</td>\n      <td>9</td>\n      <td>-238</td>\n      <td>1692821086</td>\n      <td>6</td>\n      <td>72410</td>\n      <td>2023-08-23 20:04:46</td>\n    </tr>\n    <tr>\n      <th>124</th>\n      <td>0#837-36</td>\n      <td>22:00:00</td>\n      <td>20230823</td>\n      <td>087</td>\n      <td>10</td>\n      <td>-346</td>\n      <td>1692821220</td>\n      <td>6</td>\n      <td>73064</td>\n      <td>2023-08-23 20:07:00</td>\n    </tr>\n    <tr>\n      <th>125</th>\n      <td>0#837-36</td>\n      <td>22:00:00</td>\n      <td>20230823</td>\n      <td>087</td>\n      <td>11</td>\n      <td>-450</td>\n      <td>1692821276</td>\n      <td>6</td>\n      <td>73066</td>\n      <td>2023-08-23 20:07:56</td>\n    </tr>\n    <tr>\n      <th>126</th>\n      <td>0#837-36</td>\n      <td>22:00:00</td>\n      <td>20230823</td>\n      <td>087</td>\n      <td>12</td>\n      <td>-514</td>\n      <td>1692821318</td>\n      <td>6</td>\n      <td>73068</td>\n      <td>2023-08-23 20:08:38</td>\n    </tr>\n    <tr>\n      <th>127</th>\n      <td>0#837-36</td>\n      <td>22:00:00</td>\n      <td>20230823</td>\n      <td>087</td>\n      <td>13</td>\n      <td>-556</td>\n      <td>1692821350</td>\n      <td>6</td>\n      <td>73069</td>\n      <td>2023-08-23 20:09:10</td>\n    </tr>\n    <tr>\n      <th>128</th>\n      <td>0#837-36</td>\n      <td>22:00:00</td>\n      <td>20230823</td>\n      <td>087</td>\n      <td>14</td>\n      <td>-610</td>\n      <td>1692821436</td>\n      <td>6</td>\n      <td>73070</td>\n      <td>2023-08-23 20:10:36</td>\n    </tr>\n    <tr>\n      <th>129</th>\n      <td>0#837-36</td>\n      <td>22:00:00</td>\n      <td>20230823</td>\n      <td>087</td>\n      <td>15</td>\n      <td>-636</td>\n      <td>1692821482</td>\n      <td>6</td>\n      <td>80572</td>\n      <td>2023-08-23 20:11:22</td>\n    </tr>\n    <tr>\n      <th>130</th>\n      <td>0#837-36</td>\n      <td>22:00:00</td>\n      <td>20230823</td>\n      <td>087</td>\n      <td>16</td>\n      <td>-674</td>\n      <td>1692821536</td>\n      <td>6</td>\n      <td>82168</td>\n      <td>2023-08-23 20:12:16</td>\n    </tr>\n    <tr>\n      <th>131</th>\n      <td>0#837-36</td>\n      <td>22:00:00</td>\n      <td>20230823</td>\n      <td>087</td>\n      <td>17</td>\n      <td>-718</td>\n      <td>1692821578</td>\n      <td>6</td>\n      <td>78389</td>\n      <td>2023-08-23 20:12:58</td>\n    </tr>\n    <tr>\n      <th>132</th>\n      <td>0#837-36</td>\n      <td>22:00:00</td>\n      <td>20230823</td>\n      <td>087</td>\n      <td>18</td>\n      <td>-744</td>\n      <td>1692821654</td>\n      <td>6</td>\n      <td>75745</td>\n      <td>2023-08-23 20:14:14</td>\n    </tr>\n    <tr>\n      <th>133</th>\n      <td>0#837-36</td>\n      <td>22:00:00</td>\n      <td>20230823</td>\n      <td>087</td>\n      <td>19</td>\n      <td>-744</td>\n      <td>1692821676</td>\n      <td>16</td>\n      <td>75675</td>\n      <td>2023-08-23 20:14:36</td>\n    </tr>\n  </tbody>\n</table>\n</div>"
     },
     "execution_count": 21,
     "metadata": {},
     "output_type": "execute_result"
    }
   ],
   "source": [
    "df_updates[df_updates.route_id == \"087\"]"
   ],
   "metadata": {
    "collapsed": false,
    "ExecuteTime": {
     "end_time": "2023-08-23T20:06:32.203804Z",
     "start_time": "2023-08-23T20:06:32.136807600Z"
    }
   }
  },
  {
   "cell_type": "code",
   "execution_count": 17,
   "outputs": [
    {
     "data": {
      "text/plain": "7282    2023-08-23 18:32:50\n10796   2023-08-23 19:40:51\n12018   2023-08-23 19:41:46\n12008   2023-08-23 19:41:55\n11367   2023-08-23 19:42:01\n                ...        \n7782    2023-08-23 20:47:52\n4122    2023-08-23 20:47:54\n4096    2023-08-23 20:48:00\n8572    2023-08-23 20:51:36\n8537    2023-08-23 20:53:22\nName: date_time, Length: 12207, dtype: datetime64[ns]"
     },
     "execution_count": 17,
     "metadata": {},
     "output_type": "execute_result"
    }
   ],
   "source": [
    "df_updates[df_updates.time != 0].date_time.sort_values()"
   ],
   "metadata": {
    "collapsed": false,
    "ExecuteTime": {
     "end_time": "2023-08-23T20:00:21.968451200Z",
     "start_time": "2023-08-23T20:00:21.923455900Z"
    }
   }
  }
 ],
 "metadata": {
  "kernelspec": {
   "display_name": "Python 3",
   "language": "python",
   "name": "python3"
  },
  "language_info": {
   "codemirror_mode": {
    "name": "ipython",
    "version": 2
   },
   "file_extension": ".py",
   "mimetype": "text/x-python",
   "name": "python",
   "nbconvert_exporter": "python",
   "pygments_lexer": "ipython2",
   "version": "2.7.6"
  }
 },
 "nbformat": 4,
 "nbformat_minor": 0
}
